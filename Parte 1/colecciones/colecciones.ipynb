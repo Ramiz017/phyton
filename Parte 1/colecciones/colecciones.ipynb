{
 "cells": [
  {
   "cell_type": "markdown",
   "metadata": {},
   "source": [
    "Muestro primero el manejo de las listas\n"
   ]
  },
  {
   "cell_type": "code",
   "execution_count": null,
   "metadata": {},
   "outputs": [],
   "source": [
    "lista = [1,2,3,4,5,6,7,8,9,0]\n",
    "\n",
    "print(len(lista))"
   ]
  },
  {
   "cell_type": "markdown",
   "metadata": {},
   "source": [
    "Maneras de print\n"
   ]
  },
  {
   "cell_type": "code",
   "execution_count": null,
   "metadata": {},
   "outputs": [],
   "source": [
    "print(lista[3])\n",
    "\n",
    "print(lista[2:7])\n",
    "\n",
    "print(lista[-3])\n",
    "\n",
    "print(lista[2:7:2])"
   ]
  },
  {
   "cell_type": "code",
   "execution_count": null,
   "metadata": {},
   "outputs": [],
   "source": [
    "lista2=[0,9,8,7,6,5,4,3,2,1]\n",
    "\n",
    "lista3=lista+lista2\n",
    "\n",
    "print(lista3)"
   ]
  },
  {
   "cell_type": "markdown",
   "metadata": {},
   "source": [
    "Tuplas\n"
   ]
  },
  {
   "cell_type": "code",
   "execution_count": null,
   "metadata": {},
   "outputs": [],
   "source": [
    "tupla=(1,2,3,4,4,5,6,7,7,8,9,1,1)\n",
    "\n",
    "print(tupla)"
   ]
  },
  {
   "cell_type": "markdown",
   "metadata": {},
   "source": [
    "Tuplas no son para ingresar"
   ]
  },
  {
   "cell_type": "code",
   "execution_count": null,
   "metadata": {},
   "outputs": [],
   "source": [
    "tupla[1] = 10\n",
    "\n",
    "print(tupla)"
   ]
  },
  {
   "cell_type": "markdown",
   "metadata": {},
   "source": [
    "Sets de datos"
   ]
  },
  {
   "cell_type": "code",
   "execution_count": null,
   "metadata": {},
   "outputs": [],
   "source": [
    "set1 = {1,2,3,4,5, 6}\n",
    "set2 = {6,7,8,9,0, 1}\n",
    "\n",
    "print(set1)\n",
    "print(set2)\n",
    "print(set1 - set2) #solo ver lo que no hay en el set 1\n",
    "print(set2 - set1) #solo ver lo que no hay en el set 2\n",
    "print(set2 & set1) #muestra los que estan en ambos solamente\n",
    "print(set2 | set1) #Los une\n",
    "\n",
    "print(set1 + set2) #error no se puede ver lo que hay en ambas solamente asi\n"
   ]
  },
  {
   "cell_type": "markdown",
   "metadata": {},
   "source": [
    "Diccionarios\n"
   ]
  },
  {
   "cell_type": "code",
   "execution_count": null,
   "metadata": {},
   "outputs": [],
   "source": [
    "diccionario = {\"clave\":\"valor\", \"fruta\":\"manzana\", \"peso\":29}\n",
    "\n",
    "print(diccionario)\n",
    "print(diccionario[\"clave\"])\n",
    "print(diccionario[\"fruta\"])\n",
    "print(diccionario[\"peso\"])"
   ]
  },
  {
   "cell_type": "markdown",
   "metadata": {},
   "source": [
    "Las cadenas tambien son coleciones"
   ]
  },
  {
   "cell_type": "code",
   "execution_count": 30,
   "metadata": {},
   "outputs": [
    {
     "name": "stdout",
     "output_type": "stream",
     "text": [
      "Camino a casa seguro\n",
      "CAMINO A CASA SEGURO\n",
      "c\n",
      "a\n",
      "m\n",
      "i\n",
      "n\n",
      "o\n",
      " \n",
      "a\n",
      " \n",
      "c\n",
      "a\n",
      "s\n",
      "a\n",
      " \n",
      "s\n",
      "e\n",
      "g\n",
      "u\n",
      "r\n",
      "o\n"
     ]
    }
   ],
   "source": [
    "cadena = \"camino a casa seguro\"\n",
    "\n",
    "print(cadena.capitalize()) #solo mayus la primera\n",
    "print(cadena.upper()) #mayus todo\n",
    "\n",
    "for letra in cadena:\n",
    "    print(letra)\n"
   ]
  }
 ],
 "metadata": {
  "kernelspec": {
   "display_name": "Python 3",
   "language": "python",
   "name": "python3"
  },
  "language_info": {
   "codemirror_mode": {
    "name": "ipython",
    "version": 3
   },
   "file_extension": ".py",
   "mimetype": "text/x-python",
   "name": "python",
   "nbconvert_exporter": "python",
   "pygments_lexer": "ipython3",
   "version": "3.12.4"
  }
 },
 "nbformat": 4,
 "nbformat_minor": 2
}
