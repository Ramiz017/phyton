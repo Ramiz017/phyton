{
 "cells": [
  {
   "cell_type": "code",
   "execution_count": 2,
   "metadata": {},
   "outputs": [],
   "source": [
    "import numpy as np"
   ]
  },
  {
   "cell_type": "code",
   "execution_count": null,
   "metadata": {},
   "outputs": [],
   "source": [
    "lista = [4,6,8,10,12,24]\n",
    "\n",
    "arreglo = np.array(lista)"
   ]
  },
  {
   "cell_type": "code",
   "execution_count": null,
   "metadata": {},
   "outputs": [],
   "source": [
    "print(arreglo.size) # devuelve la cantidad\n",
    "\n",
    "print(arreglo.shape) # devuuelve el numero de filaz y columnas\n",
    "\n",
    "print(arreglo.ndim) # la cantidad de dimensiones"
   ]
  },
  {
   "cell_type": "code",
   "execution_count": null,
   "metadata": {},
   "outputs": [],
   "source": [
    "print(arreglo.dtype) # el tipo de datos\n",
    "\n",
    "print(arreglo.itemsize) # el tamaño en bytes\n",
    "\n",
    "print(arreglo.data) # en la memoria "
   ]
  },
  {
   "cell_type": "code",
   "execution_count": null,
   "metadata": {},
   "outputs": [],
   "source": [
    "print(arreglo[4])\n",
    "\n",
    "arreglo[4] = 11\n",
    "\n",
    "print(arreglo)"
   ]
  },
  {
   "cell_type": "code",
   "execution_count": null,
   "metadata": {},
   "outputs": [],
   "source": [
    "print(arreglo[3:])\n",
    "\n",
    "print(arreglo[:3])\n",
    "\n",
    "print(arreglo[-1])"
   ]
  },
  {
   "cell_type": "code",
   "execution_count": null,
   "metadata": {},
   "outputs": [],
   "source": [
    "print(arreglo)"
   ]
  },
  {
   "cell_type": "code",
   "execution_count": null,
   "metadata": {},
   "outputs": [],
   "source": [
    "print(arreglo.mean()) # promedio\n",
    "\n",
    "print(arreglo.max()) # el maximo\n",
    "\n",
    "print(arreglo.min()) # menor\n",
    "\n",
    "print(arreglo.std()) # desviacion estandar"
   ]
  },
  {
   "cell_type": "code",
   "execution_count": null,
   "metadata": {},
   "outputs": [],
   "source": [
    "matriz = np.array(([1,3,5], [2,4,6], [3,7,11]))\n",
    "\n",
    "print(matriz)"
   ]
  },
  {
   "cell_type": "code",
   "execution_count": null,
   "metadata": {},
   "outputs": [],
   "source": [
    "print(matriz.size) # devuelve la cantidad de datos\n",
    "\n",
    "print(matriz.shape) # devuuelve el numero de filas y columnas\n",
    "\n",
    "print(matriz.ndim) # la cantidad de dimensiones\n",
    "\n",
    "print(matriz.dtype) # el tipo de datos"
   ]
  },
  {
   "cell_type": "code",
   "execution_count": null,
   "metadata": {},
   "outputs": [],
   "source": [
    "print(matriz)\n",
    "\n",
    "print(matriz[1,1])\n",
    "\n",
    "print(matriz[0,2])"
   ]
  },
  {
   "cell_type": "code",
   "execution_count": null,
   "metadata": {},
   "outputs": [],
   "source": [
    "ceros = np.zeros(10)\n",
    "print(ceros)\n",
    "\n",
    "matriz0 = np.zeros(((2,2,3)))\n",
    "print(matriz0)\n",
    "\n",
    "unos = np.ones(10)\n",
    "print(unos)\n",
    "\n",
    "matriz"
   ]
  },
  {
   "cell_type": "code",
   "execution_count": 3,
   "metadata": {},
   "outputs": [
    {
     "data": {
      "text/plain": [
       "array(['Uno', 'Uno', 'Uno', 'Uno', 'Uno', 'Uno', 'Uno', 'Uno', 'Uno',\n",
       "       'Uno'], dtype='<U3')"
      ]
     },
     "execution_count": 3,
     "metadata": {},
     "output_type": "execute_result"
    }
   ],
   "source": [
    "matrisllena= np.full(10,fill_value=\"Uno\")\n",
    "\n",
    "matrisllena"
   ]
  },
  {
   "cell_type": "code",
   "execution_count": null,
   "metadata": {},
   "outputs": [],
   "source": [
    "print(matriz)\n",
    "print(matriz.mean())\n",
    "print(matriz.sum())\n",
    "print(matriz.min())"
   ]
  },
  {
   "cell_type": "code",
   "execution_count": null,
   "metadata": {},
   "outputs": [],
   "source": [
    "matriz_trans = matriz.transpose()\n",
    "\n",
    "matriz_trans"
   ]
  },
  {
   "cell_type": "code",
   "execution_count": null,
   "metadata": {},
   "outputs": [],
   "source": [
    "aplanada = matriz.flatten()\n",
    "\n",
    "aplanada"
   ]
  },
  {
   "cell_type": "code",
   "execution_count": null,
   "metadata": {},
   "outputs": [],
   "source": [
    "lista = [ 1,2,3,4,5,6,7,8,9,10,11,12]\n",
    "\n",
    "dimension1 = np.array(lista)\n",
    "\n",
    "dimension1"
   ]
  },
  {
   "cell_type": "code",
   "execution_count": null,
   "metadata": {},
   "outputs": [],
   "source": [
    "dimension2 = dimension1.reshape(4,3)\n",
    "\n",
    "dimension2"
   ]
  },
  {
   "cell_type": "code",
   "execution_count": null,
   "metadata": {},
   "outputs": [],
   "source": [
    "suman = dimension2 + dimension2\n",
    "\n",
    "suman"
   ]
  }
 ],
 "metadata": {
  "kernelspec": {
   "display_name": "Python 3",
   "language": "python",
   "name": "python3"
  },
  "language_info": {
   "codemirror_mode": {
    "name": "ipython",
    "version": 3
   },
   "file_extension": ".py",
   "mimetype": "text/x-python",
   "name": "python",
   "nbconvert_exporter": "python",
   "pygments_lexer": "ipython3",
   "version": "3.12.4"
  }
 },
 "nbformat": 4,
 "nbformat_minor": 2
}
