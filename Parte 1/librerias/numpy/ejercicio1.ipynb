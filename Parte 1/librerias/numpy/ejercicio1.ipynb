{
 "cells": [
  {
   "cell_type": "code",
   "execution_count": 2,
   "metadata": {},
   "outputs": [
    {
     "name": "stdout",
     "output_type": "stream",
     "text": [
      "[['true' 'true' 'true']\n",
      " ['true' 'true' 'true']\n",
      " ['true' 'true' 'true']]\n"
     ]
    }
   ],
   "source": [
    "#Crear un arreglo 3x3 de numpy con todas las entradas igual a True\n",
    "import numpy as np\n",
    "\n",
    "lista = [\"true\", \"true\", \"true\", \"true\", \"true\", \"true\", \"true\", \"true\", \"true\"]\n",
    "\n",
    "matriz1 = np.array(lista)\n",
    "\n",
    "matriz3d= matriz1.reshape(3,3)\n",
    "\n",
    "print(matriz3d)"
   ]
  }
 ],
 "metadata": {
  "kernelspec": {
   "display_name": "Python 3",
   "language": "python",
   "name": "python3"
  },
  "language_info": {
   "codemirror_mode": {
    "name": "ipython",
    "version": 3
   },
   "file_extension": ".py",
   "mimetype": "text/x-python",
   "name": "python",
   "nbconvert_exporter": "python",
   "pygments_lexer": "ipython3",
   "version": "3.12.4"
  }
 },
 "nbformat": 4,
 "nbformat_minor": 2
}
