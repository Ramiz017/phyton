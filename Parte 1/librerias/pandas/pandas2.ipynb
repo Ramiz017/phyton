{
 "cells": [
  {
   "cell_type": "code",
   "execution_count": null,
   "metadata": {},
   "outputs": [],
   "source": [
    "import pandas as pd"
   ]
  },
  {
   "cell_type": "code",
   "execution_count": null,
   "metadata": {},
   "outputs": [],
   "source": [
    "url = \"https://docs.google.com/spreadsheets/d/1N0jiRINu2OeLKApWyY0Jwih2ofcnLlbB/edit?usp=sharing&ouid=112617284460207758071&rtpof=true&sd=true\"\n",
    "path = \"https://drive.google.com/uc?export=download&id=\" + url.split(\"/\")[-2]\n",
    "dataseturl = pd.read_excel(path, index_col=0)\n",
    "\n",
    "dataseturl\n"
   ]
  },
  {
   "cell_type": "code",
   "execution_count": null,
   "metadata": {},
   "outputs": [],
   "source": []
  },
  {
   "cell_type": "code",
   "execution_count": null,
   "metadata": {},
   "outputs": [],
   "source": [
    "dataseturl.info()"
   ]
  },
  {
   "cell_type": "code",
   "execution_count": null,
   "metadata": {},
   "outputs": [],
   "source": [
    "dataseturl.describe()"
   ]
  },
  {
   "cell_type": "code",
   "execution_count": null,
   "metadata": {},
   "outputs": [],
   "source": [
    "datasinnulos = dataseturl.dropna()\n",
    "datasinnulos = datasinnulos.drop_duplicates()\n",
    "datasinnulos.info()"
   ]
  },
  {
   "cell_type": "code",
   "execution_count": null,
   "metadata": {},
   "outputs": [],
   "source": [
    "# datanuevo = dataseturl\n",
    "\n",
    "# datanuevo.info()"
   ]
  },
  {
   "cell_type": "code",
   "execution_count": null,
   "metadata": {},
   "outputs": [],
   "source": [
    "# datanuevo.dropna(inplace=True)\n",
    "\n",
    "# datanuevo.info()"
   ]
  },
  {
   "cell_type": "code",
   "execution_count": null,
   "metadata": {},
   "outputs": [],
   "source": [
    "dataseturl.fillna(0.0, inplace=True)\n",
    "dataseturl.info()\n",
    "dataseturl"
   ]
  },
  {
   "cell_type": "code",
   "execution_count": null,
   "metadata": {},
   "outputs": [],
   "source": [
    "print(dataseturl.plot())"
   ]
  },
  {
   "cell_type": "code",
   "execution_count": null,
   "metadata": {},
   "outputs": [],
   "source": [
    "perdidos = dataseturl[dataseturl[\"Idiomas\"] < 3.0]\n",
    "perdidos"
   ]
  },
  {
   "cell_type": "code",
   "execution_count": null,
   "metadata": {},
   "outputs": [],
   "source": [
    "consulta = dataseturl[(dataseturl [\"Matematicas\"] > 4) & (dataseturl [\"Español\"] > 4)]\n",
    "consulta"
   ]
  },
  {
   "cell_type": "code",
   "execution_count": null,
   "metadata": {},
   "outputs": [],
   "source": [
    "dataseturl [\"Genero\"].unique()"
   ]
  },
  {
   "cell_type": "code",
   "execution_count": null,
   "metadata": {},
   "outputs": [],
   "source": [
    "dataseturl = dataseturl.replace"
   ]
  },
  {
   "cell_type": "code",
   "execution_count": null,
   "metadata": {},
   "outputs": [],
   "source": [
    "dataseturl[\"Promedio\"] = (dataseturl[\"Idiomas\"] + dataseturl[\"Matematicas\"] + dataseturl[\"Español\"]) / 3\n",
    "\n",
    "dataseturl"
   ]
  },
  {
   "cell_type": "code",
   "execution_count": null,
   "metadata": {},
   "outputs": [],
   "source": [
    "dataseturl.to_excel(\"Calificaciones380.xlsx\", index=False)"
   ]
  }
 ],
 "metadata": {
  "kernelspec": {
   "display_name": "Python 3",
   "language": "python",
   "name": "python3"
  },
  "language_info": {
   "codemirror_mode": {
    "name": "ipython",
    "version": 3
   },
   "file_extension": ".py",
   "mimetype": "text/x-python",
   "name": "python",
   "nbconvert_exporter": "python",
   "pygments_lexer": "ipython3",
   "version": "3.12.4"
  }
 },
 "nbformat": 4,
 "nbformat_minor": 2
}
