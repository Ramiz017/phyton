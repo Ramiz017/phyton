{
 "cells": [
  {
   "cell_type": "code",
   "execution_count": 13,
   "metadata": {},
   "outputs": [
    {
     "name": "stdout",
     "output_type": "stream",
     "text": [
      "[' ', ' 2327007  ANALISIS Y DESARROLLO DE ', 'SISTEMAS DE INFORMACION  CC 1024588503  PAGO SENA  NACIONAL  ', '2327007  ANALISIS Y DESARROLLO DE ', 'SISTEMAS DE INFORMACION  CC 1039094408  PAGO SENA  NACIONAL  ', '2327007  ANALISIS Y DESARROLLO DE ', 'SISTEMAS DE INFORMACION  CC 1047473104  PAGO SENA  NACIONAL  ', '2334728  NEGOCIACIÓN INTERNACIONAL  CC 1111799170  PAGO SENA  NACIONAL  ', '2339864  PRODUCCION DE MEDIOS ', 'AUDIOVISUALES DIGITALES  CC 1007491148  PAGO SENA  NACIONAL  ', '2339864  PRODUCCION DE MEDIOS ', 'AUDIOVISUALES DIGITALES  CC 1146441052  PAGO SENA  NACIONAL  ', '2339876  DESARROLLO DE MEDIOS GRAFICOS ', 'VISUALES  CC 98637727  PAGO SENA  NACIONAL  ', '2339876  DESARROLLO DE MEDIOS GRAFICOS ', 'VISUALES  CC 1000548032  PAGO SENA  NACIONAL  ', '2348205  ANALISIS Y DESARROLLO DE ', 'SISTEMAS DE INFORMACION  TI 1004282465  PAGO SENA  NACIONAL  ', '2348205  ANALISIS Y DESARROLLO DE ', 'SISTEMAS DE INFORMACION  CC 1125185053  PAGO SENA  NACIONAL  ']\n",
      "Datos exportados a datos_extraidos.xlsx\n"
     ]
    }
   ],
   "source": [
    "import pandas as pd\n",
    "import PyPDF2 as pdf\n",
    "\n",
    "with open('APRENDICES HABILITADOS CON PAGO SENA- SEMESTRE I-2024.pdf', 'rb') as archivo:\n",
    "    pdf_reader = pdf.PdfReader(archivo)\n",
    "    num_paginas = len(pdf_reader.pages)\n",
    "\n",
    "    rows = []\n",
    "\n",
    "    for pagina in range(2, num_paginas):\n",
    "        page = pdf_reader.pages[pagina]\n",
    "        text = page.extract_text()\n",
    "        if text:\n",
    "            lineas = text.splitlines()\n",
    "            rows.extend(lineas)\n",
    "\n",
    "    print(rows[:20]) \n",
    "\n",
    "    cantidad = []\n",
    "    buffer = []\n",
    "\n",
    "    for line in rows:\n",
    "        line = line.strip()  \n",
    "\n",
    "        if len(line.split()) >= 7:\n",
    "            if buffer:\n",
    "                merged_line = ' '.join(buffer).strip()\n",
    "                parts = merged_line.split()\n",
    "                if len(parts) >= 7:\n",
    "                    cantidad.append([\n",
    "                        parts[0],  # Ficha\n",
    "                        ' '.join(parts[1:-5]),  # Programa\n",
    "                        parts[-5],  # Tipo de Documento\n",
    "                        parts[-4],  # Número de Documento\n",
    "                        parts[-3],  # Documento\n",
    "                        parts[-2],  # Responsable de Pago\n",
    "                        parts[-1]   # Convocatoria\n",
    "                    ])\n",
    "                buffer = [] \n",
    "            \n",
    "            cantidad.append([\n",
    "                line.split()[0],  # Ficha\n",
    "                ' '.join(line.split()[1:-5]),  # Programa\n",
    "                line.split()[-5],  # Tipo de Documento\n",
    "                line.split()[-4],  # Número de Documento\n",
    "                line.split()[-3],  # Documento\n",
    "                line.split()[-2],  # Responsable de Pago\n",
    "                line.split()[-1]   # Convocatoria\n",
    "            ])\n",
    "        else:\n",
    "            buffer.append(line)\n",
    "    if buffer:\n",
    "        merged_line = ' '.join(buffer).strip()\n",
    "        parts = merged_line.split()\n",
    "        if len(parts) >= 7:\n",
    "            cantidad.append([\n",
    "                parts[0],  # Ficha\n",
    "                ' '.join(parts[1:-5]),  # Programa\n",
    "                parts[-5],  # Tipo de Documento\n",
    "                parts[-4],  # Número de Documento\n",
    "                parts[-3],  # Documento\n",
    "                parts[-2],  # Responsable de Pago\n",
    "                parts[-1]   # Convocatoria\n",
    "            ])\n",
    "\n",
    "df = pd.DataFrame(cantidad, columns=['Ficha', 'Programa', 'Tipo de Documento', 'Número de Documento', \n",
    "                                    'Documento', 'Responsable de Pago', 'Convocatoria'])\n",
    "\n",
    "excel_file = 'datos_extraidos.xlsx'\n",
    "df.to_excel(excel_file, index=False)\n",
    "\n",
    "print(f'Datos exportados a {excel_file}')\n"
   ]
  }
 ],
 "metadata": {
  "kernelspec": {
   "display_name": "Python 3",
   "language": "python",
   "name": "python3"
  },
  "language_info": {
   "codemirror_mode": {
    "name": "ipython",
    "version": 3
   },
   "file_extension": ".py",
   "mimetype": "text/x-python",
   "name": "python",
   "nbconvert_exporter": "python",
   "pygments_lexer": "ipython3",
   "version": "3.12.4"
  }
 },
 "nbformat": 4,
 "nbformat_minor": 2
}
