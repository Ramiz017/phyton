{
 "cells": [
  {
   "cell_type": "code",
   "execution_count": null,
   "metadata": {},
   "outputs": [],
   "source": [
    "import requests \n",
    "from bs4 import BeautifulSoup\n",
    "import pandas as pd"
   ]
  },
  {
   "cell_type": "code",
   "execution_count": null,
   "metadata": {},
   "outputs": [],
   "source": [
    "url = \"https://ingdanielbs.github.io/Datos\"\n",
    "\n",
    "response = requests.get(url)"
   ]
  },
  {
   "cell_type": "code",
   "execution_count": null,
   "metadata": {},
   "outputs": [],
   "source": [
    "soup = BeautifulSoup(response.content, \"html.parser\")"
   ]
  },
  {
   "cell_type": "code",
   "execution_count": null,
   "metadata": {},
   "outputs": [],
   "source": [
    "tabla= soup.find(\"table\")"
   ]
  },
  {
   "cell_type": "code",
   "execution_count": null,
   "metadata": {},
   "outputs": [],
   "source": [
    "if tabla is not None:\n",
    "    filas = tabla.find_all(\"tr\")\n",
    "    data = []\n",
    "\n",
    "    for fila in filas:\n",
    "        cols = fila.find_all(\"td\")\n",
    "        cols = [col.text.strip() for col in cols]\n",
    "        data.append(cols)\n",
    "\n",
    "    df = pd.DataFrame(data, columns=[\"Documento\",\"Nombre\",\"Apellidos\",\"Dirección\",\"Teléfono\",\"Edad\",\"Estatura\"])\n",
    "\n",
    "else:\n",
    "    print(\"La tabla no fue encontrada\")"
   ]
  },
  {
   "cell_type": "code",
   "execution_count": null,
   "metadata": {},
   "outputs": [],
   "source": [
    "df.dropna(inplace=True)\n",
    "df.info()"
   ]
  },
  {
   "cell_type": "code",
   "execution_count": null,
   "metadata": {},
   "outputs": [],
   "source": [
    "df.to_excel(\"Datoshtml.xlsx\", index=False)"
   ]
  },
  {
   "cell_type": "code",
   "execution_count": 17,
   "metadata": {},
   "outputs": [],
   "source": [
    "datos = pd.read_excel('Datoshtml.xlsx')\n",
    "datos_pdf = pd.read_excel('Datosaprendices.xlsx')\n",
    "\n",
    "# Unir los datos basados en la columna \"Documento\", especificando qué columnas incluir\n",
    "datos_unidos = pd.merge(datos, datos_pdf[['Documento', 'Área de residencia', 'Tipo colegio', 'Género', 'Estrato', 'Nota Matematicas', 'Nota Lecto Escritura', 'Apoyo económico de padres', 'Último grado cursado']], on='Documento')\n",
    "\n",
    "# Guardar los datos unidos en un nuevo archivo de Excel\n",
    "datos_unidos.to_excel('Dataset_final.xlsx', index=False)"
   ]
  }
 ],
 "metadata": {
  "kernelspec": {
   "display_name": "Python 3",
   "language": "python",
   "name": "python3"
  },
  "language_info": {
   "codemirror_mode": {
    "name": "ipython",
    "version": 3
   },
   "file_extension": ".py",
   "mimetype": "text/x-python",
   "name": "python",
   "nbconvert_exporter": "python",
   "pygments_lexer": "ipython3",
   "version": "3.12.4"
  }
 },
 "nbformat": 4,
 "nbformat_minor": 2
}
