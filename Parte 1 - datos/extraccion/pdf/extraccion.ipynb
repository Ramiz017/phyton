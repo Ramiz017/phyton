{
 "cells": [
  {
   "cell_type": "code",
   "execution_count": 1,
   "metadata": {},
   "outputs": [],
   "source": [
    "import PyPDF2 as pdf\n",
    "import openpyxl as xls"
   ]
  },
  {
   "cell_type": "code",
   "execution_count": null,
   "metadata": {},
   "outputs": [],
   "source": [
    "wb=xls.Workbook()"
   ]
  },
  {
   "cell_type": "code",
   "execution_count": null,
   "metadata": {},
   "outputs": [],
   "source": [
    "ws=wb.active"
   ]
  },
  {
   "cell_type": "code",
   "execution_count": null,
   "metadata": {},
   "outputs": [],
   "source": [
    "ws['A1'] = 'Documento'\n",
    "ws['B1'] = 'Nombre'\n",
    "ws['C1'] = 'Apellidos'\n",
    "ws['D1'] = 'Área de residencia'\n",
    "ws['E1'] = 'Tipo colegio'\n",
    "ws['F1'] = 'Género'\n",
    "ws['G1'] = 'Estrato'\n",
    "ws['H1'] = 'Nota Matematicas'\n",
    "ws['I1'] = 'Nota Lecto Escritura'\n",
    "ws['J1'] = 'Apoyo económico de padres'\n",
    "ws['K1'] = 'Último grado cursado'"
   ]
  },
  {
   "cell_type": "code",
   "execution_count": null,
   "metadata": {},
   "outputs": [],
   "source": [
    "with open('Datosaprendices.pdf','rb') as archivo:\n",
    "    pdf_reader=pdf.PdfReader(archivo)\n",
    "    \n",
    "    num_paginas=len(pdf_reader.pages)\n",
    "    \n",
    "    for pagina in range(num_paginas):\n",
    "        page = pdf_reader.pages[pagina]\n",
    "        texto = page.extract_text()\n",
    "        matriz = texto.split()\n",
    "        print(matriz)\n",
    "        row=ws.max_row + 1\n",
    "        for i in range(len(matriz)):\n",
    "            if \"Documento\" in matriz[i]:\n",
    "                documento=matriz[ i + 1]\n",
    "                ws.cell(row=row, column=1, value=documento)\n",
    "            if \"Nombre\" in matriz[i]:\n",
    "                nombre=matriz[ i + 1]\n",
    "                ws.cell(row=row, column=2, value=nombre)\n",
    "            if \"Apellido\" in matriz[i]:\n",
    "                apellido=matriz[ i + 1]\n",
    "                ws.cell(row=row, column=3, value=apellido)\n",
    "            if \"residencia\" in matriz[i]:\n",
    "                residencia=matriz[ i + 1]\n",
    "                ws.cell(row=row, column=4, value=residencia)\n",
    "            if \"colegio\" in matriz[i]:\n",
    "                colegio=matriz[ i + 1]\n",
    "                ws.cell(row=row, column=5, value=colegio)\n",
    "            if \"Género\" in matriz[i]:\n",
    "                genero=matriz[ i + 1]\n",
    "                ws.cell(row=row, column=6, value=genero)\n",
    "            if \"Estrato\" in matriz[i]:\n",
    "                estrato=matriz[ i + 1]\n",
    "                ws.cell(row=row, column=7, value=estrato)\n",
    "            if \"Matemáticas\" in matriz[i]:\n",
    "                nota_mat=matriz[ i + 1]\n",
    "                ws.cell(row=row, column=8, value=nota_mat)\n",
    "            if \"Escritura\" in matriz[i]:\n",
    "                nota_lec=matriz[ i + 1]\n",
    "                ws.cell(row=row, column=9, value=nota_lec)\n",
    "            if \"padres\" in matriz[i]:\n",
    "                apoyo_economico=matriz[ i + 1]\n",
    "                ws.cell(row=row,  column=10, value=apoyo_economico)\n",
    "            if \"cursad\" in matriz[i]:\n",
    "                ult_grado=matriz[ i + 2]\n",
    "                ws.cell(row=row, column=11, value=ult_grado)"
   ]
  },
  {
   "cell_type": "code",
   "execution_count": null,
   "metadata": {},
   "outputs": [],
   "source": [
    "wb.save(\"Datosaprendices.xlsx\")"
   ]
  }
 ],
 "metadata": {
  "kernelspec": {
   "display_name": "Python 3",
   "language": "python",
   "name": "python3"
  },
  "language_info": {
   "codemirror_mode": {
    "name": "ipython",
    "version": 3
   },
   "file_extension": ".py",
   "mimetype": "text/x-python",
   "name": "python",
   "nbconvert_exporter": "python",
   "pygments_lexer": "ipython3",
   "version": "3.12.4"
  }
 },
 "nbformat": 4,
 "nbformat_minor": 2
}
