{
 "cells": [
  {
   "cell_type": "code",
   "execution_count": 1,
   "metadata": {},
   "outputs": [],
   "source": [
    "import pdfplumber\n",
    "import pandas as pd"
   ]
  },
  {
   "cell_type": "code",
   "execution_count": 2,
   "metadata": {},
   "outputs": [],
   "source": [
    "with pdfplumber.open(\"APRENDICES HABILITADOS CON PAGO SENA- SEMESTRE I-2024.pdf\") as pdf:\n",
    "    datos = []\n",
    "    for pagina in pdf.pages:\n",
    "        tablas = pagina.extract_tables()\n",
    "        for tabla in tablas:\n",
    "            datos.extend(tabla)\n",
    "\n",
    "df = pd.DataFrame(datos)\n",
    "\n",
    "if \"Refencia\" in df.columns:\n",
    "    df = df.drop(columns=[\"Refencia\"])\n",
    "else:\n",
    "    df = df.drop(columns=[df.columns[-1]]) "
   ]
  },
  {
   "cell_type": "code",
   "execution_count": 3,
   "metadata": {},
   "outputs": [],
   "source": [
    "df.to_excel(\"Remates.xlsx\", index=False)"
   ]
  }
 ],
 "metadata": {
  "kernelspec": {
   "display_name": "Python 3",
   "language": "python",
   "name": "python3"
  },
  "language_info": {
   "codemirror_mode": {
    "name": "ipython",
    "version": 3
   },
   "file_extension": ".py",
   "mimetype": "text/x-python",
   "name": "python",
   "nbconvert_exporter": "python",
   "pygments_lexer": "ipython3",
   "version": "3.12.4"
  }
 },
 "nbformat": 4,
 "nbformat_minor": 2
}
