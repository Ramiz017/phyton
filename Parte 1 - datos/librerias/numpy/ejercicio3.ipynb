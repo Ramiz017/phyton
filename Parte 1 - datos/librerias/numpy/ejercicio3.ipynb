{
 "cells": [
  {
   "cell_type": "code",
   "execution_count": 7,
   "metadata": {},
   "outputs": [
    {
     "data": {
      "text/plain": [
       "array([[0, 1, 2, 3, 4],\n",
       "       [5, 6, 7, 8, 9]])"
      ]
     },
     "execution_count": 7,
     "metadata": {},
     "output_type": "execute_result"
    }
   ],
   "source": [
    "#Convertir el Siguiente arreglo 1D a un \n",
    "#arreglo 2D. arr = np.array([ 0, 1, 2, 3, 4, 5, 6, 7, 8, 9])\n",
    "\n",
    "import numpy as np\n",
    "\n",
    "arr = np.array([ 0, 1, 2, 3, 4, 5, 6, 7, 8, 9])\n",
    "\n",
    "array2d = arr.reshape(2,5)\n",
    "\n",
    "array2d"
   ]
  }
 ],
 "metadata": {
  "kernelspec": {
   "display_name": "Python 3",
   "language": "python",
   "name": "python3"
  },
  "language_info": {
   "codemirror_mode": {
    "name": "ipython",
    "version": 3
   },
   "file_extension": ".py",
   "mimetype": "text/x-python",
   "name": "python",
   "nbconvert_exporter": "python",
   "pygments_lexer": "ipython3",
   "version": "3.12.4"
  }
 },
 "nbformat": 4,
 "nbformat_minor": 2
}
