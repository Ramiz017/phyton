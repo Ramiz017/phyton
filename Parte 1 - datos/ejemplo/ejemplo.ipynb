{
 "cells": [
  {
   "cell_type": "code",
   "execution_count": 25,
   "metadata": {},
   "outputs": [],
   "source": [
    "import PyPDF2\n",
    "from openpyxl import Workbook"
   ]
  },
  {
   "cell_type": "code",
   "execution_count": 26,
   "metadata": {},
   "outputs": [],
   "source": [
    "Pdf1 = 'Datosaprendices.pdf'\n",
    "Pdf2 = 'Remates.pdf'\n",
    "\n",
    "Clave_inicio_1 = \"Nombre\"\n",
    "Clave_fin_1 = \"Apoyo económico\"\n",
    "Clave_vacio = \"Nombre\"\n",
    "\n",
    "Clave_2 = [\"CÓDIGO\", \"Fecha del remate\", \"Ciudad\", \"Departamento\", \"Tipo de bien\", \"Avaluo remate\", \"Oferta Mínima\", \"Refencia\"] \n",
    "Columnas_2 = 8\n",
    "\n",
    "wb = Workbook()\n",
    "hoja1 = wb.active\n",
    "hoja1.title = 'PDF 1'"
   ]
  },
  {
   "cell_type": "code",
   "execution_count": 27,
   "metadata": {},
   "outputs": [],
   "source": [
    "# Proceso para el primer PDF\n",
    "with open(Pdf1, 'rb') as archivo_pdf1:\n",
    "    lector_pdf1 = PyPDF2.PdfReader(archivo_pdf1)\n",
    "    datos_1 = \"\"\n",
    "    capturando_tabla = False\n",
    "    fila_excel = 1\n",
    "    for pagina in range(len(lector_pdf1.pages)):\n",
    "        datos_1 += lector_pdf1.pages[pagina].extract_text()\n",
    "    filas1 = datos_1.split('\\n')\n",
    "    for fila in filas1:\n",
    "        if Clave_inicio_1 in fila:\n",
    "            capturando_tabla = True\n",
    "        if capturando_tabla:\n",
    "            if Clave_vacio in fila:\n",
    "                fila_excel += 1\n",
    "                fila_excel += 1            \n",
    "            columnas = fila.split()\n",
    "            for col_idx, valor in enumerate(columnas, start=1):\n",
    "                hoja1.cell(row=fila_excel, column=col_idx, value=valor)\n",
    "            fila_excel += 1\n",
    "            \n",
    "        if Clave_fin_1 in fila:\n",
    "            capturando_tabla = False"
   ]
  },
  {
   "cell_type": "code",
   "execution_count": 28,
   "metadata": {},
   "outputs": [],
   "source": [
    "# Hoja para el segundo PDF\n",
    "hoja2 = wb.create_sheet(title='PDF 2')\n",
    "\n",
    "with open(Pdf2, 'rb') as archivo_pdf2:\n",
    "    lector_pdf2 = PyPDF2.PdfReader(archivo_pdf2)\n",
    "    fila_excel = 1\n",
    "    \n",
    "    for pagina in range(len(lector_pdf2.pages)):\n",
    "        texto_completo = lector_pdf2.pages[pagina].extract_text()\n",
    "        # Separar en líneas según la disposición horizontal\n",
    "        lineas = texto_completo.split('\\n')\n",
    "        \n",
    "        # Iterar sobre las líneas para procesar datos\n",
    "        for linea in lineas:\n",
    "            # Dividir la línea en partes considerando un mínimo de dos espacios como separación de columnas\n",
    "            columnas = [parte.strip() for parte in linea.split('  ') if parte.strip()]\n",
    "            \n",
    "            if len(columnas) >= Columnas_2 or any(clave in columnas for clave in Clave_2):\n",
    "                capturando_tabla = True\n",
    "\n",
    "            if capturando_tabla:\n",
    "                for col_idx, valor in enumerate(columnas, start=1):\n",
    "                    hoja2.cell(row=fila_excel, column=col_idx, value=valor)\n",
    "                fila_excel += 1\n",
    "                \n",
    "            if len(columnas) < Columnas_2 and not any(clave in columnas for clave in Clave_2):\n",
    "                capturando_tabla = False"
   ]
  },
  {
   "cell_type": "code",
   "execution_count": 29,
   "metadata": {},
   "outputs": [],
   "source": [
    "wb.save('resultado_tablas.xlsx')"
   ]
  }
 ],
 "metadata": {
  "kernelspec": {
   "display_name": "Python 3",
   "language": "python",
   "name": "python3"
  },
  "language_info": {
   "codemirror_mode": {
    "name": "ipython",
    "version": 3
   },
   "file_extension": ".py",
   "mimetype": "text/x-python",
   "name": "python",
   "nbconvert_exporter": "python",
   "pygments_lexer": "ipython3",
   "version": "3.12.4"
  }
 },
 "nbformat": 4,
 "nbformat_minor": 2
}
