{
 "cells": [
  {
   "cell_type": "code",
   "execution_count": 38,
   "metadata": {},
   "outputs": [],
   "source": [
    "import PyPDF2 as pdf\n",
    "import openpyxl as xls"
   ]
  },
  {
   "cell_type": "code",
   "execution_count": 39,
   "metadata": {},
   "outputs": [],
   "source": [
    "# Crear el archivo Excel\n",
    "wb = xls.Workbook()\n",
    "\n",
    "# Procesar el primer PDF y crear la primera hoja\n",
    "ws1 = wb.active\n",
    "ws1.title = \"Datos Aprendices 1\""
   ]
  },
  {
   "cell_type": "code",
   "execution_count": 40,
   "metadata": {},
   "outputs": [],
   "source": [
    "# Encabezados\n",
    "ws1['A1'] = 'Documento'\n",
    "ws1['B1'] = 'Nombre'\n",
    "ws1['C1'] = 'Apellidos'\n",
    "ws1['D1'] = 'Área de residencia'\n",
    "ws1['E1'] = 'Tipo colegio'\n",
    "ws1['F1'] = 'Género'\n",
    "ws1['G1'] = 'Estrato'\n",
    "ws1['H1'] = 'Nota Matematicas'\n",
    "ws1['I1'] = 'Nota Lecto Escritura'\n",
    "ws1['J1'] = 'Apoyo económico de padres'\n",
    "ws1['K1'] = 'Último grado cursado'\n",
    "\n",
    "# Leer el primer PDF\n",
    "with open('Datosaprendices.pdf', 'rb') as archivo1:\n",
    "    pdf_reader1 = pdf.PdfReader(archivo1)\n",
    "    num_paginas1 = len(pdf_reader1.pages)\n",
    "\n",
    "    for pagina in range(num_paginas1):\n",
    "        pagina_pdf1 = pdf_reader1.pages[pagina]\n",
    "        texto1 = pagina_pdf1.extract_text()\n",
    "        matriz1 = texto1.split()\n",
    "        fila1 = ws1.max_row + 1\n",
    "        \n",
    "        for i in range(len(matriz1)):\n",
    "            if \"Documento\" in matriz1[i]:\n",
    "                ws1.cell(row=fila1, column=1, value=matriz1[i + 1])\n",
    "            if \"Nombre\" in matriz1[i]:\n",
    "                ws1.cell(row=fila1, column=2, value=matriz1[i + 1])\n",
    "            if \"Apellido\" in matriz1[i]:\n",
    "                ws1.cell(row=fila1, column=3, value=matriz1[i + 1])\n",
    "            if \"residencia\" in matriz1[i]:\n",
    "                ws1.cell(row=fila1, column=4, value=matriz1[i + 1])\n",
    "            if \"colegio\" in matriz1[i]:\n",
    "                ws1.cell(row=fila1, column=5, value=matriz1[i + 1])\n",
    "            if \"Género\" in matriz1[i]:\n",
    "                ws1.cell(row=fila1, column=6, value=matriz1[i + 1])\n",
    "            if \"Estrato\" in matriz1[i]:\n",
    "                ws1.cell(row=fila1, column=7, value=matriz1[i + 1])\n",
    "            if \"Matemáticas\" in matriz1[i]:\n",
    "                ws1.cell(row=fila1, column=8, value=matriz1[i + 1])\n",
    "            if \"Escritura\" in matriz1[i]:\n",
    "                ws1.cell(row=fila1, column=9, value=matriz1[i + 1])\n",
    "            if \"padres\" in matriz1[i]:\n",
    "                ws1.cell(row=fila1, column=10, value=matriz1[i + 1])\n",
    "            if \"cursad\" in matriz1[i]:\n",
    "                ws1.cell(row=fila1, column=11, value=matriz1[i + 2])\n",
    "\n"
   ]
  },
  {
   "cell_type": "code",
   "execution_count": 41,
   "metadata": {},
   "outputs": [],
   "source": [
    "# Procesar el segundo PDF y crear la segunda hoja\n",
    "ws2 = wb.create_sheet(title=\"Datos Remate\")\n",
    "\n",
    "# Encabezados\n",
    "ws2['A1'] = 'CÓDIGO'\n",
    "ws2['B1'] = 'Fecha del remate'\n",
    "ws2['C1'] = 'Ciudad'\n",
    "ws2['D1'] = 'Departamento'\n",
    "ws2['E1'] = 'Tipo de bien'\n",
    "ws2['F1'] = 'Avaluo remate'\n",
    "ws2['G1'] = 'Oferta Mínima'\n",
    "\n",
    "# Leer el segundo PDF\n",
    "with open('Remates.pdf', 'rb') as archivo2:\n",
    "    pdf_reader2 = pdf.PdfReader(archivo2)\n",
    "    num_paginas2 = len(pdf_reader2.pages)\n",
    "\n",
    "    for pagina in range(num_paginas2):\n",
    "        pagina_pdf2 = pdf_reader2.pages[pagina]\n",
    "        texto2 = pagina_pdf2.extract_text()\n",
    "        lineas = texto2.split('\\n')  # Dividir en líneas\n",
    "\n",
    "        for linea in lineas:\n",
    "            datos = linea.split()  # Dividir cada línea en palabras\n",
    "            fila2 = ws2.max_row + 1\n",
    "            \n",
    "            # Asumiendo que los datos están en el orden de los encabezados\n",
    "            for i in range(len(datos)):\n",
    "                if \"CÓDIGO\" in datos[i]:\n",
    "                    ws2.cell(row=fila2, column=1, value=datos[i + 1])\n",
    "                if \"Fecha\" in datos[i] and \"remate\" in datos[i]:\n",
    "                    ws2.cell(row=fila2, column=2, value=datos[i + 2])\n",
    "                if \"Ciudad\" in datos[i]:\n",
    "                    ws2.cell(row=fila2, column=3, value=datos[i + 1])\n",
    "                if \"Departamento\" in datos[i]:\n",
    "                    ws2.cell(row=fila2, column=4, value=datos[i + 1])\n",
    "                if \"Tipo\" in datos[i] and \"bien\" in datos[i]:\n",
    "                    ws2.cell(row=fila2, column=5, value=datos[i + 2])\n",
    "                if \"Avaluo\" in datos[i] and \"remate\" in datos[i]:\n",
    "                    ws2.cell(row=fila2, column=6, value=datos[i + 2])\n",
    "                if \"Oferta\" in datos[i] and \"Mínima\" in datos[i]:\n",
    "                    ws2.cell(row=fila2, column=7, value=datos[i + 2])"
   ]
  },
  {
   "cell_type": "code",
   "execution_count": 42,
   "metadata": {},
   "outputs": [],
   "source": [
    "wb.save(\"Datosaprendices.xlsx\")"
   ]
  }
 ],
 "metadata": {
  "kernelspec": {
   "display_name": "Python 3",
   "language": "python",
   "name": "python3"
  },
  "language_info": {
   "codemirror_mode": {
    "name": "ipython",
    "version": 3
   },
   "file_extension": ".py",
   "mimetype": "text/x-python",
   "name": "python",
   "nbconvert_exporter": "python",
   "pygments_lexer": "ipython3",
   "version": "3.12.4"
  }
 },
 "nbformat": 4,
 "nbformat_minor": 2
}
