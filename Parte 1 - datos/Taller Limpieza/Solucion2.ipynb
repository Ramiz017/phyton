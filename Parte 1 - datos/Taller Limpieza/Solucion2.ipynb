{
 "cells": [
  {
   "cell_type": "code",
   "execution_count": null,
   "metadata": {},
   "outputs": [],
   "source": [
    "import pandas as pd\n",
    "from ydata_profiling import ProfileReport\n",
    "import matplotlib.pyplot as plt"
   ]
  },
  {
   "cell_type": "code",
   "execution_count": null,
   "metadata": {},
   "outputs": [],
   "source": [
    "data = pd.read_csv(\"DataSetAero.csv\", encoding=\"UTF8\", decimal=\",\")"
   ]
  },
  {
   "cell_type": "code",
   "execution_count": null,
   "metadata": {},
   "outputs": [],
   "source": [
    "data.info()"
   ]
  },
  {
   "cell_type": "code",
   "execution_count": null,
   "metadata": {},
   "outputs": [],
   "source": [
    "data.isnull().sum()"
   ]
  },
  {
   "cell_type": "code",
   "execution_count": null,
   "metadata": {},
   "outputs": [],
   "source": [
    "data = data.dropna()"
   ]
  },
  {
   "cell_type": "code",
   "execution_count": null,
   "metadata": {},
   "outputs": [],
   "source": [
    "data.info()"
   ]
  },
  {
   "cell_type": "code",
   "execution_count": null,
   "metadata": {},
   "outputs": [],
   "source": [
    "data = data.drop_duplicates()"
   ]
  },
  {
   "cell_type": "code",
   "execution_count": null,
   "metadata": {},
   "outputs": [],
   "source": [
    "data.info()"
   ]
  },
  {
   "cell_type": "code",
   "execution_count": null,
   "metadata": {},
   "outputs": [],
   "source": [
    "data.describe()"
   ]
  },
  {
   "cell_type": "code",
   "execution_count": null,
   "metadata": {},
   "outputs": [],
   "source": [
    "data.rename(columns={'Unnamed: 0': '#'}, inplace=True)"
   ]
  },
  {
   "cell_type": "code",
   "execution_count": null,
   "metadata": {},
   "outputs": [],
   "source": [
    "data.info()"
   ]
  },
  {
   "cell_type": "markdown",
   "metadata": {},
   "source": [
    "Consultas"
   ]
  },
  {
   "cell_type": "code",
   "execution_count": null,
   "metadata": {},
   "outputs": [],
   "source": [
    "frecuencia_satisfaccion = data.groupby(['Class', 'Customer Type', 'satisfaction']).size().reset_index(name='count')\n",
    "print(frecuencia_satisfaccion)\n"
   ]
  },
  {
   "cell_type": "code",
   "execution_count": null,
   "metadata": {},
   "outputs": [],
   "source": [
    "data['Departure Delay in Minutes'] = pd.to_numeric(data['Departure Delay in Minutes'], errors='coerce')\n",
    "data['Arrival Delay in Minutes'] = pd.to_numeric(data['Arrival Delay in Minutes'], errors='coerce')\n",
    "promedio_retrasos = data.groupby(['Gender', 'Customer Type']).agg({'Departure Delay in Minutes': 'mean',\n",
    "'Arrival Delay in Minutes': 'mean'}).reset_index()\n",
    "\n",
    "print(promedio_retrasos)\n"
   ]
  },
  {
   "cell_type": "markdown",
   "metadata": {},
   "source": [
    "Graficas"
   ]
  },
  {
   "cell_type": "code",
   "execution_count": null,
   "metadata": {},
   "outputs": [],
   "source": [
    "# Crear Grafico de Barras\n",
    "edad_por_tipo_viaje = data.groupby('Type of Travel').agg({'Age': 'mean'}).reset_index()\n",
    "plt.figure(figsize=(10, 6))\n",
    "plt.bar(edad_por_tipo_viaje['Type of Travel'], edad_por_tipo_viaje['Age'], color='lightgreen')\n",
    "plt.xlabel('Tipo de Viaje')\n",
    "plt.ylabel('Edad Promedio')\n",
    "plt.title('Edad Promedio por Tipo de Viaje')\n",
    "plt.xticks(rotation=45)\n",
    "plt.tight_layout()\n",
    "\n",
    "plt.show()"
   ]
  },
  {
   "cell_type": "code",
   "execution_count": null,
   "metadata": {},
   "outputs": [],
   "source": [
    "# Crear el gráfico de caja\n",
    "plt.figure(figsize=(10, 6))\n",
    "data.boxplot(column='Arrival Delay in Minutes', by='Class', grid=False, patch_artist=True)\n",
    "plt.xlabel('Clase')\n",
    "plt.ylabel('Retraso en la Llegada (Minutos)')\n",
    "plt.title('Distribución de Retrasos en la Llegada por Clase')\n",
    "plt.suptitle('')\n",
    "plt.tight_layout()\n",
    "\n",
    "plt.show()"
   ]
  },
  {
   "cell_type": "code",
   "execution_count": null,
   "metadata": {},
   "outputs": [],
   "source": [
    "report = ProfileReport(data)\n",
    "report.to_file(output_file='reporteaero.html')"
   ]
  },
  {
   "cell_type": "code",
   "execution_count": null,
   "metadata": {},
   "outputs": [],
   "source": [
    "data.to_csv(\"Tallerlimpio2.csv\", index=False)"
   ]
  }
 ],
 "metadata": {
  "kernelspec": {
   "display_name": "Python 3",
   "language": "python",
   "name": "python3"
  },
  "language_info": {
   "codemirror_mode": {
    "name": "ipython",
    "version": 3
   },
   "file_extension": ".py",
   "mimetype": "text/x-python",
   "name": "python",
   "nbconvert_exporter": "python",
   "pygments_lexer": "ipython3",
   "version": "3.12.5"
  }
 },
 "nbformat": 4,
 "nbformat_minor": 2
}
