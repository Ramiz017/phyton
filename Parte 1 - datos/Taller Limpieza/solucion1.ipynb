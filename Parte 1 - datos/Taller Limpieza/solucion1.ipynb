{
 "cells": [
  {
   "cell_type": "code",
   "execution_count": null,
   "metadata": {},
   "outputs": [],
   "source": [
    "import pandas as pd\n",
    "from ydata_profiling import ProfileReport\n",
    "import matplotlib.pyplot as plt"
   ]
  },
  {
   "cell_type": "markdown",
   "metadata": {},
   "source": [
    "Limpieza"
   ]
  },
  {
   "cell_type": "code",
   "execution_count": null,
   "metadata": {},
   "outputs": [],
   "source": [
    "data = pd.read_excel(\"04_TallerLimpiezaDatos.xlsx\")"
   ]
  },
  {
   "cell_type": "code",
   "execution_count": null,
   "metadata": {},
   "outputs": [],
   "source": [
    "data.info()"
   ]
  },
  {
   "cell_type": "code",
   "execution_count": null,
   "metadata": {},
   "outputs": [],
   "source": [
    "data.isnull().sum() #No hay nulos"
   ]
  },
  {
   "cell_type": "code",
   "execution_count": null,
   "metadata": {},
   "outputs": [],
   "source": [
    "data.info()"
   ]
  },
  {
   "cell_type": "code",
   "execution_count": null,
   "metadata": {},
   "outputs": [],
   "source": [
    "data = data.drop_duplicates()  #No hay duplicados"
   ]
  },
  {
   "cell_type": "code",
   "execution_count": null,
   "metadata": {},
   "outputs": [],
   "source": [
    "data.describe()"
   ]
  },
  {
   "cell_type": "code",
   "execution_count": null,
   "metadata": {},
   "outputs": [],
   "source": [
    "data.info()"
   ]
  },
  {
   "cell_type": "code",
   "execution_count": null,
   "metadata": {},
   "outputs": [],
   "source": [
    "data = pd.read_excel(\"04_TallerLimpiezaDatos.xlsx\")"
   ]
  },
  {
   "cell_type": "code",
   "execution_count": null,
   "metadata": {},
   "outputs": [],
   "source": [
    "data[\"Genero\"].unique()"
   ]
  },
  {
   "cell_type": "code",
   "execution_count": null,
   "metadata": {},
   "outputs": [],
   "source": [
    "data[\"Genero\"] = data[\"Genero\"].str.replace(\"Hombre\",\"Masculino\", regex=False)\n",
    "data[\"Genero\"] = data[\"Genero\"].str.replace(\"HOMBRE\",\"Masculino\", regex=False)\n",
    "data[\"Genero\"] = data[\"Genero\"].str.replace(\"hombe\",\"Masculino\", regex=False)\n",
    "data[\"Genero\"] = data[\"Genero\"].str.replace(\"hombre\",\"Masculino\", regex=False)"
   ]
  },
  {
   "cell_type": "code",
   "execution_count": null,
   "metadata": {},
   "outputs": [],
   "source": [
    "data[\"Genero\"] = data[\"Genero\"].str.replace(\"Mujer\",\"Femenino\", regex=False)\n",
    "data[\"Genero\"] = data[\"Genero\"].str.replace(\"F\",\"Femenino\", regex=False)\n",
    "data[\"Genero\"] = data[\"Genero\"].str.replace(\"MUJER\",\"Femenino\", regex=False)\n",
    "data[\"Genero\"] = data[\"Genero\"].str.replace(\"mujer\",\"Femenino\", regex=False)"
   ]
  },
  {
   "cell_type": "code",
   "execution_count": null,
   "metadata": {},
   "outputs": [],
   "source": [
    "\n",
    "data[\"Genero\"] = data[\"Genero\"].str.replace(\"H\",\"Masculino\", regex=False)\n",
    "data[\"Genero\"] = data[\"Genero\"].str.replace(\"M\",\"Masculino\", regex=False)"
   ]
  },
  {
   "cell_type": "code",
   "execution_count": null,
   "metadata": {},
   "outputs": [],
   "source": [
    "data[\"Genero\"] = data[\"Genero\"].str.replace(\"Masculinoasculino\",\"Masculino\", regex=False)\n",
    "data[\"Genero\"] = data[\"Genero\"].str.replace(\"Femeninoemenino\",\"Femenino\", regex=False)"
   ]
  },
  {
   "cell_type": "code",
   "execution_count": null,
   "metadata": {},
   "outputs": [],
   "source": [
    "data[\"Genero\"].unique()"
   ]
  },
  {
   "cell_type": "code",
   "execution_count": null,
   "metadata": {},
   "outputs": [],
   "source": [
    "data[\"TipoVenta\"].unique()"
   ]
  },
  {
   "cell_type": "code",
   "execution_count": null,
   "metadata": {},
   "outputs": [],
   "source": [
    "data[\"TipoVenta\"] = data[\"TipoVenta\"].str.replace(\"en web\",\"Online\", regex=False)\n",
    "data[\"TipoVenta\"] = data[\"TipoVenta\"].str.replace(\"presencial\",\"Fisica\", regex=False)"
   ]
  },
  {
   "cell_type": "code",
   "execution_count": null,
   "metadata": {},
   "outputs": [],
   "source": [
    "data[\"TipoVenta\"].unique()"
   ]
  },
  {
   "cell_type": "markdown",
   "metadata": {},
   "source": [
    "Columna Subtotal"
   ]
  },
  {
   "cell_type": "code",
   "execution_count": null,
   "metadata": {},
   "outputs": [],
   "source": [
    "data['SubTotal'] = data['ValorUnitario'] * data['Cantidad']"
   ]
  },
  {
   "cell_type": "code",
   "execution_count": null,
   "metadata": {},
   "outputs": [],
   "source": [
    "data.info()"
   ]
  },
  {
   "cell_type": "markdown",
   "metadata": {},
   "source": [
    "Consultas"
   ]
  },
  {
   "cell_type": "code",
   "execution_count": null,
   "metadata": {},
   "outputs": [],
   "source": [
    "data['TotalVenta'] = data['Cantidad'] * data['ValorUnitario']\n",
    "ventas_por_ubicacion_tipo = data.groupby(['Ubicación', 'TipoVenta']).agg({'TotalVenta': 'sum'}).reset_index()\n",
    "print(ventas_por_ubicacion_tipo)"
   ]
  },
  {
   "cell_type": "code",
   "execution_count": null,
   "metadata": {},
   "outputs": [],
   "source": [
    "Total_cliente_ubicacion = data.groupby(['Cliente', 'Ubicación']).agg({'TotalVenta': 'sum'}).reset_index()\n",
    "print(Total_cliente_ubicacion)"
   ]
  },
  {
   "cell_type": "markdown",
   "metadata": {},
   "source": [
    "Graficas"
   ]
  },
  {
   "cell_type": "code",
   "execution_count": null,
   "metadata": {},
   "outputs": [],
   "source": [
    "# Crear grafico de barras\n",
    "data['TotalVentas'] = data['Cantidad'] * data['ValorUnitario']\n",
    "ventas_por_producto = data.groupby('Producto').agg({'TotalVentas': 'sum'}).reset_index()\n",
    "plt.figure(figsize=(10, 6))\n",
    "plt.bar(ventas_por_producto['Producto'], ventas_por_producto['TotalVentas'], color='skyblue')\n",
    "plt.xlabel('Producto')\n",
    "plt.ylabel('Total de Ventas')\n",
    "plt.title('Total de Ventas por Producto')\n",
    "plt.xticks(rotation=45)\n",
    "plt.tight_layout()\n",
    "\n",
    "plt.show()"
   ]
  },
  {
   "cell_type": "code",
   "execution_count": null,
   "metadata": {},
   "outputs": [],
   "source": [
    "# Crear grafico de torta\n",
    "ventas_por_genero = data.groupby('Genero').agg({'TotalVentas': 'sum'}).reset_index()\n",
    "plt.figure(figsize=(8, 8))\n",
    "plt.pie(ventas_por_genero['TotalVentas'], labels=ventas_por_genero['Genero'], autopct='%1.1f%%', colors=plt.cm.Paired(range(len(ventas_por_genero['Genero']))))\n",
    "plt.title('Distribución de Ventas por Género')\n",
    "\n",
    "\n",
    "plt.show()\n"
   ]
  },
  {
   "cell_type": "markdown",
   "metadata": {},
   "source": [
    "Reporte"
   ]
  },
  {
   "cell_type": "code",
   "execution_count": null,
   "metadata": {},
   "outputs": [],
   "source": [
    "report = ProfileReport(data)\n",
    "report.to_file(output_file='reporte.html')"
   ]
  },
  {
   "cell_type": "code",
   "execution_count": null,
   "metadata": {},
   "outputs": [],
   "source": [
    "data.to_excel(\"Tallerlimpio1.xlsx\", index=False)"
   ]
  }
 ],
 "metadata": {
  "kernelspec": {
   "display_name": "Python 3",
   "language": "python",
   "name": "python3"
  },
  "language_info": {
   "codemirror_mode": {
    "name": "ipython",
    "version": 3
   },
   "file_extension": ".py",
   "mimetype": "text/x-python",
   "name": "python",
   "nbconvert_exporter": "python",
   "pygments_lexer": "ipython3",
   "version": "3.12.5"
  }
 },
 "nbformat": 4,
 "nbformat_minor": 2
}
