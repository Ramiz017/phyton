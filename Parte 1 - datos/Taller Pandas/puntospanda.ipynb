{
 "cells": [
  {
   "cell_type": "code",
   "execution_count": null,
   "metadata": {},
   "outputs": [],
   "source": [
    "import pandas as pd"
   ]
  },
  {
   "cell_type": "markdown",
   "metadata": {},
   "source": [
    "1) Leer la siguiente URL y conocer su informacion principal, mediante el uso los atributos \n",
    "y metodos necesarios de pandas. \n",
    "\n",
    "URL: https://docs.google.com/spreadsheets/d/1NGb3RfV0iQ6r1U7s1Lb4_8XLz2BbrQZu/edit?usp=sharing&ouid=112617284460207758071&rtpof=true&sd=true\n"
   ]
  },
  {
   "cell_type": "code",
   "execution_count": null,
   "metadata": {},
   "outputs": [],
   "source": [
    "url = \"https://docs.google.com/spreadsheets/d/1NGb3RfV0iQ6r1U7s1Lb4_8XLz2BbrQZu/edit?usp=sharing&ouid=112617284460207758071&rtpof=true&sd=true\"\n",
    "path = \"https://drive.google.com/uc?export=download&id=\" + url.split(\"/\")[-2]\n",
    "data = pd.read_excel(path, index_col=0)"
   ]
  },
  {
   "cell_type": "markdown",
   "metadata": {},
   "source": [
    "2) Realizar una descripcion estadistica de la informacion encontrada y normalizarla (Eliminar los null).\n"
   ]
  },
  {
   "cell_type": "code",
   "execution_count": null,
   "metadata": {},
   "outputs": [],
   "source": [
    "data.info()"
   ]
  },
  {
   "cell_type": "code",
   "execution_count": null,
   "metadata": {},
   "outputs": [],
   "source": [
    "datasinnulos = data\n",
    "datasinnulos.dropna(inplace=True)\n",
    "datasinnulos.describe()"
   ]
  },
  {
   "cell_type": "code",
   "execution_count": null,
   "metadata": {},
   "outputs": [],
   "source": [
    "datasinnulos.info()"
   ]
  },
  {
   "cell_type": "markdown",
   "metadata": {},
   "source": [
    "3) Generar una grafica representativa de la informacion obtenida.\n"
   ]
  },
  {
   "cell_type": "code",
   "execution_count": null,
   "metadata": {},
   "outputs": [],
   "source": [
    "print(datasinnulos.plot())"
   ]
  },
  {
   "cell_type": "markdown",
   "metadata": {},
   "source": [
    "4) Generar dos consultas de agrupamiento de valor agregado a la informacion obtenida.\n"
   ]
  },
  {
   "cell_type": "code",
   "execution_count": null,
   "metadata": {},
   "outputs": [],
   "source": [
    "datasinnulos['ValorUnitario'] = datasinnulos['ValorUnitario'].replace('[$,]', '', regex=True).astype(float) #convertir a float\n",
    "datasinnulos['ValorTotal'] = datasinnulos['Cantidad'] * datasinnulos['ValorUnitario'] #saco el total\n",
    "ventasporcliente = datasinnulos.groupby('Cliente')['ValorTotal'].sum().reset_index()#agrupar\n",
    "print(ventasporcliente)"
   ]
  },
  {
   "cell_type": "code",
   "execution_count": null,
   "metadata": {},
   "outputs": [],
   "source": [
    "cantidadporproducto = datasinnulos.groupby('Producto')['Cantidad'].sum().reset_index()\n",
    "print(cantidadporproducto)"
   ]
  },
  {
   "cell_type": "code",
   "execution_count": null,
   "metadata": {},
   "outputs": [],
   "source": [
    "datasinnulos.info()"
   ]
  },
  {
   "cell_type": "markdown",
   "metadata": {},
   "source": [
    "5) Generar nuevas columnas segun sean requeridas para completar la informacion obtenida.\n"
   ]
  },
  {
   "cell_type": "code",
   "execution_count": null,
   "metadata": {},
   "outputs": [],
   "source": [
    "datasinnulos[\"Clientes y Productos\"] = (datasinnulos[\"Cliente\"] + \"_\" + datasinnulos[\"Producto\"])\n",
    "datasinnulos.info()"
   ]
  },
  {
   "cell_type": "markdown",
   "metadata": {},
   "source": [
    "6) Exportar el trabajo realizado en los anteriores items a un archivo de excel o archivo de texto"
   ]
  },
  {
   "cell_type": "code",
   "execution_count": null,
   "metadata": {},
   "outputs": [],
   "source": [
    "datasinnulos.to_excel(\"BD_Licoreria.xlsx\", index=False)"
   ]
  }
 ],
 "metadata": {
  "kernelspec": {
   "display_name": "Python 3",
   "language": "python",
   "name": "python3"
  },
  "language_info": {
   "codemirror_mode": {
    "name": "ipython",
    "version": 3
   },
   "file_extension": ".py",
   "mimetype": "text/x-python",
   "name": "python",
   "nbconvert_exporter": "python",
   "pygments_lexer": "ipython3",
   "version": "3.12.4"
  }
 },
 "nbformat": 4,
 "nbformat_minor": 2
}
